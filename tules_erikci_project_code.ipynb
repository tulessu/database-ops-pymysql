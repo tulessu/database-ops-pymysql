{
 "cells": [
  {
   "cell_type": "code",
   "execution_count": 1,
   "metadata": {},
   "outputs": [],
   "source": [
    "import pymysql.cursors #import cursors"
   ]
  },
  {
   "cell_type": "code",
   "execution_count": 2,
   "metadata": {},
   "outputs": [],
   "source": [
    "#Connect mySQL database by using Python\n",
    "connection = pymysql.connect(host='localhost',\n",
    "                            user='root',\n",
    "                            cursorclass=pymysql.cursors.DictCursor)"
   ]
  },
  {
   "cell_type": "code",
   "execution_count": 3,
   "metadata": {},
   "outputs": [
    {
     "name": "stdout",
     "output_type": "stream",
     "text": [
      "[{'Database': 'information_schema'}, {'Database': 'mall'}, {'Database': 'mysql'}, {'Database': 'performance_schema'}, {'Database': 'phpmyadmin'}, {'Database': 'sportclub'}, {'Database': 'test'}, {'Database': 'tseblog'}, {'Database': 'university'}]\n"
     ]
    }
   ],
   "source": [
    "#show existing databases\n",
    "with connection.cursor() as cursor:\n",
    "    cursor.execute(\"show databases\")\n",
    "    databases = cursor.fetchall()\n",
    "    \n",
    "print(databases) "
   ]
  },
  {
   "cell_type": "code",
   "execution_count": 4,
   "metadata": {},
   "outputs": [
    {
     "data": {
      "text/plain": [
       "4"
      ]
     },
     "execution_count": 4,
     "metadata": {},
     "output_type": "execute_result"
    }
   ],
   "source": [
    "connection.cursor().execute('drop database sportclub')"
   ]
  },
  {
   "cell_type": "code",
   "execution_count": 5,
   "metadata": {},
   "outputs": [
    {
     "data": {
      "text/plain": [
       "1"
      ]
     },
     "execution_count": 5,
     "metadata": {},
     "output_type": "execute_result"
    }
   ],
   "source": [
    "#Create Sport Club database\n",
    "connection.cursor().execute('create database sportclub')"
   ]
  },
  {
   "cell_type": "code",
   "execution_count": 6,
   "metadata": {},
   "outputs": [
    {
     "data": {
      "text/plain": [
       "0"
      ]
     },
     "execution_count": 6,
     "metadata": {},
     "output_type": "execute_result"
    }
   ],
   "source": [
    "#Create customer table\n",
    "#customer id will be PK since it is unique\n",
    "connection.cursor().execute('create table sportclub.customer (customer_id int not null, customer_name varchar(20), customer_lastname varchar(20), registration_date date, customer_email varchar(30), primary key(customer_id))')"
   ]
  },
  {
   "cell_type": "code",
   "execution_count": 7,
   "metadata": {},
   "outputs": [
    {
     "data": {
      "text/plain": [
       "0"
      ]
     },
     "execution_count": 7,
     "metadata": {},
     "output_type": "execute_result"
    }
   ],
   "source": [
    "#Create trainer table\n",
    "#trainer id will be PK since it is unique\n",
    "connection.cursor().execute('create table sportclub.trainer (trainer_id int not null, trainer_name varchar(20), trainer_lastname varchar(20), trainer_level varchar(20), trainer_email varchar(30), primary key(trainer_id))')"
   ]
  },
  {
   "cell_type": "code",
   "execution_count": 8,
   "metadata": {},
   "outputs": [
    {
     "data": {
      "text/plain": [
       "0"
      ]
     },
     "execution_count": 8,
     "metadata": {},
     "output_type": "execute_result"
    }
   ],
   "source": [
    "#Create class table\n",
    "#class id will be PK since it is unique\n",
    "#customer_id and trainer_id will be foreign keys since every class needs at least one customer and trainer\n",
    "connection.cursor().execute('create table sportclub.class (class_id int not null, customer_id int not null, trainer_id int not null, class_name varchar(30), class_capacity int not null, class_time time, primary key(class_id), foreign key(customer_id) references customer(customer_id), foreign key(trainer_id) references trainer(trainer_id))')"
   ]
  },
  {
   "cell_type": "code",
   "execution_count": 9,
   "metadata": {},
   "outputs": [
    {
     "data": {
      "text/plain": [
       "0"
      ]
     },
     "execution_count": 9,
     "metadata": {},
     "output_type": "execute_result"
    }
   ],
   "source": [
    "#Create membership table\n",
    "#customer_id and membership_id will be compound pk's since membership is weak\n",
    "#customer_id will also be fk because membership_id will be unique iff customer_id exists\n",
    "connection.cursor().execute('create table sportclub.membership (membership_id int not null, customer_id int not null, type varchar(20), membership_price nvarchar(30), membership_length nvarchar(30), primary key(customer_id, membership_id), foreign key(customer_id) references customer(customer_id) )')"
   ]
  },
  {
   "cell_type": "code",
   "execution_count": 10,
   "metadata": {},
   "outputs": [],
   "source": [
    "connection.cursor().execute('use sportclub')\n",
    "#Insert values into customer table\n",
    "sql = \"INSERT INTO customer (customer_id, customer_name, customer_lastname, registration_date, customer_email) VALUES (%s, %s, %s, %s, %s)\"\n",
    "val = [\n",
    "  (1,'Jerry', 'Seinfeld','2020-12-12', 'jerry@hotmail.com'),\n",
    "  (2,'Elaine', 'Benes','2008-10-03','elaine@hotmail.com'),\n",
    "  (3,'George', 'Costanza','2015-08-04', 'george@hotmail.com'),\n",
    "  (4,'Cosmo', 'Kramer','2010-11-9','kramer@hotmail.com'),\n",
    "  (5,'Newman', 'Newman','2003-12-10','newman@hotmail.com'),\n",
    "  (6,'Frank', 'Costanza','2018-9-1','frank@hotmail.com')\n",
    "]\n",
    "\n",
    "connection.cursor().executemany(sql, val)\n",
    "\n",
    "connection.commit()"
   ]
  },
  {
   "cell_type": "code",
   "execution_count": 11,
   "metadata": {},
   "outputs": [],
   "source": [
    "#Insert values into trainer table\n",
    "sql2 = \"INSERT INTO trainer (trainer_id, trainer_name, trainer_lastname, trainer_level, trainer_email) VALUES (%s, %s, %s, %s, %s)\"\n",
    "val2 = [\n",
    "  (1,'Michael', 'Scofield','advanced', 'michael@hotmail.com'),\n",
    "  (2,'Theodore', 'Bagwell','beginner','theodore@hotmail.com'),\n",
    "  (3,'Sara', 'Tancredi','intermediate', 'sara@hotmail.com'),\n",
    "  (4,'Lincoln', 'Burrows','advanced','lincoln@hotmail.com'),\n",
    "  (5,'Alex', 'Mahone','expert','alex@hotmail.com'),\n",
    "  (6,'John', 'Abruzzi','expert','john@hotmail.com')\n",
    "    \n",
    "]\n",
    "\n",
    "connection.cursor().executemany(sql2, val2)\n",
    "\n",
    "connection.commit()"
   ]
  },
  {
   "cell_type": "code",
   "execution_count": 12,
   "metadata": {},
   "outputs": [],
   "source": [
    "#Insert values into class table\n",
    "sql3 = \"INSERT INTO class (class_id, customer_id, trainer_id, class_name, class_capacity, class_time) VALUES (%s, %s, %s, %s, %s, %s)\"\n",
    "val3 = [\n",
    "  (1, 2, 1,'Boxing', 10, '12:12:00'),\n",
    "  (2, 3, 4,'Yoga',  20, '10:00:00'),\n",
    "  (3, 5, 3,'Zumba', 15, '15:30:00'),\n",
    "  (4, 4, 3, 'Dance',25, '11:15:00'),\n",
    "  (5, 1, 5, 'Fitness',25, '20:45:00'),\n",
    "  (6, 6, 6, 'Cardio', 30, '18:40:00')\n",
    "]\n",
    "\n",
    "connection.cursor().executemany(sql3, val3)\n",
    "\n",
    "connection.commit()"
   ]
  },
  {
   "cell_type": "code",
   "execution_count": 13,
   "metadata": {},
   "outputs": [],
   "source": [
    "#Insert values into membership table\n",
    "sql4 = \"INSERT INTO membership (membership_id, customer_id, type, membership_price, membership_length) VALUES (%s, %s, %s, %s, %s)\"\n",
    "val4 = [\n",
    "  (1, 2, 'gold' ,'20000','24'),\n",
    "  (2, 3, 'premium' ,'18000','20'),\n",
    "  (3, 4, 'premium','12000', '18'),\n",
    "  (4, 5, 'bronze', '10000','10'),\n",
    "  (5, 1, 'silver' , '15000','12'),\n",
    "  (6, 6, 'gold' , '17000','12')\n",
    "]\n",
    "\n",
    "connection.cursor().executemany(sql4, val4)\n",
    "\n",
    "connection.commit()"
   ]
  },
  {
   "cell_type": "code",
   "execution_count": 14,
   "metadata": {},
   "outputs": [],
   "source": [
    "#to print the resulst like a table\n",
    "def printResults(records):\n",
    "    print('\\t'.join([str(r).ljust(15) for r in records[0].keys()]))\n",
    "    \n",
    "    for record in records:\n",
    "        print('\\t'.join([str(r).ljust(15) for r in record.values()])) #to print the results like a table"
   ]
  },
  {
   "cell_type": "code",
   "execution_count": 15,
   "metadata": {},
   "outputs": [
    {
     "name": "stdout",
     "output_type": "stream",
     "text": [
      "customer_id    \tcustomer_name  \tcustomer_lastname\tregistration_date\tcustomer_email \n",
      "1              \tJerry          \tSeinfeld       \t2020-12-12     \tjerry@hotmail.com\n",
      "2              \tElaine         \tBenes          \t2008-10-03     \telaine@hotmail.com\n",
      "3              \tGeorge         \tCostanza       \t2015-08-04     \tgeorge@hotmail.com\n",
      "4              \tCosmo          \tKramer         \t2010-11-09     \tkramer@hotmail.com\n",
      "5              \tNewman         \tNewman         \t2003-12-10     \tnewman@hotmail.com\n",
      "6              \tFrank          \tCostanza       \t2018-09-01     \tfrank@hotmail.com\n"
     ]
    }
   ],
   "source": [
    "#print customer table\n",
    "with connection.cursor() as cursor:\n",
    "    cursor.execute(\"use sportclub\")\n",
    "    cursor.execute(\"select * from customer\")\n",
    "    customer = cursor.fetchall()\n",
    "    printResults(customer)"
   ]
  },
  {
   "cell_type": "code",
   "execution_count": 16,
   "metadata": {},
   "outputs": [
    {
     "name": "stdout",
     "output_type": "stream",
     "text": [
      "trainer_id     \ttrainer_name   \ttrainer_lastname\ttrainer_level  \ttrainer_email  \n",
      "1              \tMichael        \tScofield       \tadvanced       \tmichael@hotmail.com\n",
      "2              \tTheodore       \tBagwell        \tbeginner       \ttheodore@hotmail.com\n",
      "3              \tSara           \tTancredi       \tintermediate   \tsara@hotmail.com\n",
      "4              \tLincoln        \tBurrows        \tadvanced       \tlincoln@hotmail.com\n",
      "5              \tAlex           \tMahone         \texpert         \talex@hotmail.com\n",
      "6              \tJohn           \tAbruzzi        \texpert         \tjohn@hotmail.com\n"
     ]
    }
   ],
   "source": [
    "#print trainer table\n",
    "with connection.cursor() as cursor:\n",
    "    cursor.execute(\"use sportclub\")\n",
    "    cursor.execute(\"select * from trainer\")\n",
    "    trainer = cursor.fetchall()\n",
    "    printResults(trainer)"
   ]
  },
  {
   "cell_type": "code",
   "execution_count": 17,
   "metadata": {},
   "outputs": [
    {
     "name": "stdout",
     "output_type": "stream",
     "text": [
      "class_id       \tcustomer_id    \ttrainer_id     \tclass_name     \tclass_capacity \tclass_time     \n",
      "1              \t2              \t1              \tBoxing         \t10             \t12:12:00       \n",
      "2              \t3              \t4              \tYoga           \t20             \t10:00:00       \n",
      "3              \t5              \t3              \tZumba          \t15             \t15:30:00       \n",
      "4              \t4              \t3              \tDance          \t25             \t11:15:00       \n",
      "5              \t1              \t5              \tFitness        \t25             \t20:45:00       \n",
      "6              \t6              \t6              \tCardio         \t30             \t18:40:00       \n"
     ]
    }
   ],
   "source": [
    "#print class table\n",
    "with connection.cursor() as cursor:\n",
    "    cursor.execute(\"use sportclub\")\n",
    "    cursor.execute(\"select * from class\")\n",
    "    classes = cursor.fetchall()\n",
    "    printResults(classes)"
   ]
  },
  {
   "cell_type": "code",
   "execution_count": 18,
   "metadata": {},
   "outputs": [
    {
     "name": "stdout",
     "output_type": "stream",
     "text": [
      "membership_id  \tcustomer_id    \ttype           \tmembership_price\tmembership_length\n",
      "5              \t1              \tsilver         \t15000          \t12             \n",
      "1              \t2              \tgold           \t20000          \t24             \n",
      "2              \t3              \tpremium        \t18000          \t20             \n",
      "3              \t4              \tpremium        \t12000          \t18             \n",
      "4              \t5              \tbronze         \t10000          \t10             \n",
      "6              \t6              \tgold           \t17000          \t12             \n"
     ]
    }
   ],
   "source": [
    "#print membership table\n",
    "with connection.cursor() as cursor:\n",
    "    cursor.execute(\"use sportclub\")\n",
    "    cursor.execute(\"select * from membership\")\n",
    "    membership = cursor.fetchall()\n",
    "    printResults(membership)"
   ]
  },
  {
   "cell_type": "code",
   "execution_count": 19,
   "metadata": {},
   "outputs": [
    {
     "name": "stdout",
     "output_type": "stream",
     "text": [
      "You are using Sport Club database, please select one of the operations given below...\n",
      "[N]ew Record\n",
      "[S]how Table\n",
      "[A]dvanced Command\n",
      "[C]ommit Changes\n",
      "[D]rop Table\n",
      "[E]xit\n",
      "Option: s\n",
      "Please enter a valid operation. Valid operations are:  N,S,A,C,D,E\n",
      "Option: S\n",
      "You've chosen:  S\n"
     ]
    }
   ],
   "source": [
    "#show possible operations to user \n",
    "def operations():\n",
    "    print(\"You are using Sport Club database, please select one of the operations given below...\")\n",
    "    print(\"[N]ew Record\")\n",
    "    print(\"[S]how Table\")\n",
    "    print(\"[A]dvanced Command\")\n",
    "    print(\"[C]ommit Changes\")\n",
    "    print(\"[D]rop Table\")\n",
    "    print(\"[E]xit\")\n",
    "\n",
    "    \n",
    "    #Valid operations are..   \n",
    "    valid_options = ['N', 'S' , 'A', 'C', 'D', 'E']\n",
    "    \n",
    "    #ask the user until a valid operation is entered\n",
    "    while True:\n",
    "        #get the operation from user\n",
    "        #make it global to access it from every function\n",
    "        global operation_selected  \n",
    "        operation_selected = input(\"Option: \")\n",
    "        #if user enters a valid operation do not ask again\n",
    "        if operation_selected in valid_options:\n",
    "            break\n",
    "        else:\n",
    "            #if user enters an unvalid operation then ask for a valid one and show the valid operations again\n",
    "            print('Please enter a valid operation. Valid operations are: ', \",\".join(valid_options))\n",
    "            \n",
    "    #show the selected operation to user\n",
    "    print(\"You've chosen: \", operation_selected)\n",
    "\n",
    "\n",
    "operations()\n",
    "      \n",
    "\n",
    "       "
   ]
  },
  {
   "cell_type": "code",
   "execution_count": 20,
   "metadata": {},
   "outputs": [
    {
     "name": "stdout",
     "output_type": "stream",
     "text": [
      "Table name: customer\n",
      "customer_id    \tcustomer_name  \tcustomer_lastname\tregistration_date\tcustomer_email \n",
      "1              \tJerry          \tSeinfeld       \t2020-12-12     \tjerry@hotmail.com\n",
      "2              \tElaine         \tBenes          \t2008-10-03     \telaine@hotmail.com\n",
      "3              \tGeorge         \tCostanza       \t2015-08-04     \tgeorge@hotmail.com\n",
      "4              \tCosmo          \tKramer         \t2010-11-09     \tkramer@hotmail.com\n",
      "5              \tNewman         \tNewman         \t2003-12-10     \tnewman@hotmail.com\n",
      "6              \tFrank          \tCostanza       \t2018-09-01     \tfrank@hotmail.com\n",
      "You are using Sport Club database, please select one of the operations given below...\n",
      "[N]ew Record\n",
      "[S]how Table\n",
      "[A]dvanced Command\n",
      "[C]ommit Changes\n",
      "[D]rop Table\n",
      "[E]xit\n",
      "Option: N\n",
      "You've chosen:  N\n",
      "Table name: customer\n",
      "Your are inserting new record to customer table...\n",
      "Enter attribute - customer_id: 7\n",
      "Enter attribute - customer_name: chandler\n",
      "Enter attribute - customer_lastname: bing\n",
      "Enter attribute - registration_date: 2000-12-09\n",
      "Enter attribute - customer_email: chandler@hotmail.com\n",
      "Record is inserted to customer table...\n",
      "You are using Sport Club database, please select one of the operations given below...\n",
      "[N]ew Record\n",
      "[S]how Table\n",
      "[A]dvanced Command\n",
      "[C]ommit Changes\n",
      "[D]rop Table\n",
      "[E]xit\n",
      "Option: C\n",
      "You've chosen:  C\n",
      "Changes are committed to database...\n",
      "You are using Sport Club database, please select one of the operations given below...\n",
      "[N]ew Record\n",
      "[S]how Table\n",
      "[A]dvanced Command\n",
      "[C]ommit Changes\n",
      "[D]rop Table\n",
      "[E]xit\n",
      "Option: N\n",
      "You've chosen:  N\n",
      "Table name: trainer\n",
      "Your are inserting new record to trainer table...\n",
      "Enter attribute - trainer_id: 7\n",
      "Enter attribute - trainer_name: ross\n",
      "Enter attribute - trainer_lastname: geller\n",
      "Enter attribute - trainer_level: expert\n",
      "Enter attribute - trainer_email: ross@hotmail.com\n",
      "Record is inserted to trainer table...\n",
      "You are using Sport Club database, please select one of the operations given below...\n",
      "[N]ew Record\n",
      "[S]how Table\n",
      "[A]dvanced Command\n",
      "[C]ommit Changes\n",
      "[D]rop Table\n",
      "[E]xit\n",
      "Option: C\n",
      "You've chosen:  C\n",
      "Changes are committed to database...\n",
      "You are using Sport Club database, please select one of the operations given below...\n",
      "[N]ew Record\n",
      "[S]how Table\n",
      "[A]dvanced Command\n",
      "[C]ommit Changes\n",
      "[D]rop Table\n",
      "[E]xit\n",
      "Option: S\n",
      "You've chosen:  S\n",
      "Table name: trainer\n",
      "trainer_id     \ttrainer_name   \ttrainer_lastname\ttrainer_level  \ttrainer_email  \n",
      "1              \tMichael        \tScofield       \tadvanced       \tmichael@hotmail.com\n",
      "2              \tTheodore       \tBagwell        \tbeginner       \ttheodore@hotmail.com\n",
      "3              \tSara           \tTancredi       \tintermediate   \tsara@hotmail.com\n",
      "4              \tLincoln        \tBurrows        \tadvanced       \tlincoln@hotmail.com\n",
      "5              \tAlex           \tMahone         \texpert         \talex@hotmail.com\n",
      "6              \tJohn           \tAbruzzi        \texpert         \tjohn@hotmail.com\n",
      "7              \tross           \tgeller         \texpert         \tross@hotmail.com\n",
      "You are using Sport Club database, please select one of the operations given below...\n",
      "[N]ew Record\n",
      "[S]how Table\n",
      "[A]dvanced Command\n",
      "[C]ommit Changes\n",
      "[D]rop Table\n",
      "[E]xit\n",
      "Option: E\n",
      "You've chosen:  E\n",
      "Byee!\n"
     ]
    }
   ],
   "source": [
    "#add new record to the selected table if N is selected\n",
    "#show the operations menu to the user until it is not empty\n",
    "while operation_selected != \" \":\n",
    "    if operation_selected == \"N\":\n",
    "        global table_selected\n",
    "        #ask for which table to add new record\n",
    "        table_selected = input(\"Table name: \")\n",
    "        #give information to the user\n",
    "        print(\"Your are inserting new record to \"+table_selected+ \" table...\")\n",
    "\n",
    "        #enter new record to customer table if it is selected\n",
    "        if table_selected == \"customer\":\n",
    "            global customer_table1,customer_table2,customer_table3,customer_table4,customer_table5\n",
    "            customer_table1 = input(\"Enter attribute - customer_id: \")\n",
    "            customer_table2 = input(\"Enter attribute - customer_name: \")\n",
    "            customer_table3 = input(\"Enter attribute - customer_lastname: \")\n",
    "            customer_table4 = input(\"Enter attribute - registration_date: \")\n",
    "            customer_table5 = input(\"Enter attribute - customer_email: \")\n",
    "            \n",
    "            #insert the entered values into the selected table\n",
    "            def insert_customer(customer_id,customer_name,customer_lastname,registration_date,customer_email):\n",
    "                with connection.cursor() as cursor:\n",
    "                    insert= 'insert into customer (customer_id,customer_name,customer_lastname,registration_date,customer_email) values (%s,%s,%s,%s,%s)'\n",
    "                    values = (customer_id,customer_name,customer_lastname,registration_date,customer_email)\n",
    "                    cursor.execute(insert, values)\n",
    "                    connection.commit()\n",
    "                    cursor.execute('select * from customer')\n",
    "                    show_customer = cursor.fetchall()\n",
    "                    #printResults(show_customer)\n",
    "                    #give info to user if new record is added\n",
    "                    print(\"Record is inserted to \" +table_selected+ \" table...\")\n",
    "                    operations()\n",
    "\n",
    "\n",
    "            insert_customer(customer_table1,customer_table2,customer_table3,customer_table4,customer_table5)\n",
    "\n",
    "        #enter new record to trainer table if it is selected\n",
    "        elif table_selected == \"trainer\":\n",
    "            global trainer_table1,trainer_table2,trainer_table3,trainer_table4,trainer_table5\n",
    "            trainer_table1 = input(\"Enter attribute - trainer_id: \")\n",
    "            trainer_table2 = input(\"Enter attribute - trainer_name: \")\n",
    "            trainer_table3 = input(\"Enter attribute - trainer_lastname: \")\n",
    "            trainer_table4 = input(\"Enter attribute - trainer_level: \")\n",
    "            trainer_table5 = input(\"Enter attribute - trainer_email: \")\n",
    "\n",
    "            #insert the entered values to the trainer table\n",
    "            def insert_trainer(trainer_id,trainer_name,trainer_lastname,trainer_level,trainer_email):\n",
    "                with connection.cursor() as cursor:\n",
    "                    insert2 = 'insert into trainer (trainer_id,trainer_name,trainer_lastname,trainer_level,trainer_email) values (%s,%s,%s,%s,%s)'\n",
    "                    values2 = (trainer_id,trainer_name,trainer_lastname,trainer_level,trainer_email)\n",
    "                    cursor.execute(insert2, values2)\n",
    "                    connection.commit()\n",
    "                    cursor.execute('select * from trainer')\n",
    "                    show_trainer = cursor.fetchall()\n",
    "                    #printResults(show_trainer)\n",
    "                    print(\"Record is inserted to \" +table_selected+ \" table...\")\n",
    "                    operations()\n",
    "            #insert given attributes to the table\n",
    "            insert_trainer(trainer_table1,trainer_table2,trainer_table3,trainer_table4,trainer_table5)\n",
    "\n",
    "        #enter new record to class table if it is selected    \n",
    "        elif table_selected == \"class\":\n",
    "            global class_table1,class_table2,class_table3,class_table4,class_table5,class_table6\n",
    "            class_table1 = input(\"Enter attribute - class_id: \")\n",
    "            class_table2 = input(\"Enter attribute - customer_id: \")\n",
    "            class_table3 = input(\"Enter attribute - trainer_id: \")\n",
    "            class_table4 = input(\"Enter attribute - class_name: \")\n",
    "            class_table5 = input(\"Enter attribute - class_capacity: \")\n",
    "            class_table6 = input(\"Enter attribute - class_time: \")\n",
    "            \n",
    "            \n",
    "            #insert the entered values to the class table\n",
    "            def insert_class(class_id, customer_id, trainer_id, class_name, class_capacity, class_time):\n",
    "                with connection.cursor() as cursor:\n",
    "                    insert3 = 'insert into class (class_id, customer_id, trainer_id, class_name, class_capacity, class_time) values (%s,%s,%s,%s,%s,%s)'\n",
    "                    values3 = (class_id, customer_id, trainer_id, class_name, class_capacity, class_time)\n",
    "                    cursor.execute(insert3, values3)\n",
    "                    connection.commit()\n",
    "                    cursor.execute('select * from class')\n",
    "                    show_class = cursor.fetchall()\n",
    "                    #printResults(show_class)\n",
    "                    print(\"Record is inserted to \" +table_selected+ \" table...\")\n",
    "                    operations()\n",
    "\n",
    "            insert_class(class_table1,class_table2,class_table3,class_table4,class_table5,class_table6)\n",
    "\n",
    "        #enter new record to membership table if it is selected    \n",
    "        elif table_selected == \"membership\":\n",
    "            global membership_table1,membership_table2,membership_table3,membership_table4,membership_table5\n",
    "            #ask for membership table attributes\n",
    "            membership_table1 = input(\"Enter attribute - membership_id: \")\n",
    "            membership_table2 = input(\"Enter attribute - customer_id: \")\n",
    "            membership_table3 = input(\"Enter attribute - type: \")\n",
    "            membership_table4 = input(\"Enter attribute - membership_price: \")\n",
    "            membership_table5 = input(\"Enter attribute - membership_length: \")\n",
    "\n",
    "            #insert the entered attributes into membership table\n",
    "            def insert_membership(membership_id, customer_id, type, membership_price, membership_length):\n",
    "                with connection.cursor() as cursor:\n",
    "                    insert4 = 'insert into membership (membership_id, customer_id, type, membership_price, membership_length) values (%s,%s,%s,%s,%s)'\n",
    "                    values4 = (membership_id, customer_id, type, membership_price, membership_length)\n",
    "                    cursor.execute(insert4, values4)\n",
    "                    connection.commit()\n",
    "                    cursor.execute('select * from membership')\n",
    "                    show_membership = cursor.fetchall()\n",
    "                    #printResults(show_membership)\n",
    "                    print(\"Record is inserted to \" +table_selected+ \" table...\")\n",
    "                    operations()\n",
    "\n",
    "            insert_membership(membership_table1,membership_table2,membership_table3,membership_table4,membership_table5)\n",
    "\n",
    "    #show databases if S is selected       \n",
    "    if operation_selected == \"S\":\n",
    "        global table_selected2\n",
    "        #select a table to show\n",
    "        table_selected2 = input(\"Table name: \")\n",
    "        \n",
    "        #if table name entered is customer then show customer table\n",
    "        if table_selected2 == \"customer\":\n",
    "            with connection.cursor() as cursor:\n",
    "                cursor.execute(\"select * from customer\")\n",
    "                cus = cursor.fetchall()\n",
    "                printResults(cus)\n",
    "                operations()\n",
    "        #if table name entered is trainer then show customer table\n",
    "        elif table_selected2 == \"trainer\":\n",
    "            with connection.cursor() as cursor:\n",
    "                cursor.execute(\"select * from trainer\")\n",
    "                tr = cursor.fetchall()\n",
    "                printResults(tr)\n",
    "                operations()\n",
    "        #if table name entered is class then show customer table\n",
    "        elif table_selected2 == \"class\":\n",
    "            with connection.cursor() as cursor:\n",
    "                cursor.execute(\"select * from class\")\n",
    "                cls = cursor.fetchall()\n",
    "                printResults(cls)\n",
    "                operations()\n",
    "        #if table name entered is membership then show customer table\n",
    "        elif table_selected2 == \"membership\":\n",
    "            with connection.cursor() as cursor:\n",
    "                cursor.execute(\"select * from membership\")\n",
    "                memb = cursor.fetchall()\n",
    "                printResults(memb)\n",
    "                operations()\n",
    "                \n",
    "    #if selected operation is A then take the advanced command by user\n",
    "    if operation_selected == \"A\":\n",
    "        \n",
    "        print(\"You are executing advanced commands...\")\n",
    "        adv_command = input(\"Advanced command: \")\n",
    "        \n",
    "        with connection.cursor() as cursor:\n",
    "            #execute the adv command written by user\n",
    "            cursor.execute(adv_command)\n",
    "            show_tab = cursor.fetchall()\n",
    "            print(adv_command)\n",
    "            printResults(show_tab)\n",
    "            operations()\n",
    "            \n",
    "    #if selected operation is D then ask for which table to drop      \n",
    "    if operation_selected == \"D\":\n",
    "        \n",
    "       #ask the user which table to drop\n",
    "        table_drop = input(\"Table name : \")\n",
    "        \n",
    "        with connection.cursor() as cursor:\n",
    "            #drop the selected table\n",
    "            cursor.execute('drop table ' + table_drop )\n",
    "            droptb = cursor.fetchall()\n",
    "            #give info about which table is dropped\n",
    "            print(table_drop+ \" table dropped...\")\n",
    "            operations()\n",
    "            \n",
    "            \n",
    "     #if selected operation is C then commit all the changes to database\n",
    "    if operation_selected == \"C\":\n",
    "        \n",
    "        with connection.cursor() as cursor:\n",
    "            #commit changes\n",
    "            connection.commit()\n",
    "            print(\"Changes are committed to database...\")\n",
    "            operations()\n",
    "            \n",
    "    #if selected operation is E then exit         \n",
    "    if operation_selected == \"E\":\n",
    "        print(\"Byee!\")\n",
    "        #closing the connection\n",
    "        connection.close()\n",
    "        #dont show the operations menu again to the user\n",
    "        break\n",
    "        \n",
    "            \n",
    "        \n"
   ]
  },
  {
   "cell_type": "code",
   "execution_count": null,
   "metadata": {},
   "outputs": [],
   "source": []
  },
  {
   "cell_type": "code",
   "execution_count": null,
   "metadata": {},
   "outputs": [],
   "source": []
  }
 ],
 "metadata": {
  "kernelspec": {
   "display_name": "Python 3",
   "language": "python",
   "name": "python3"
  },
  "language_info": {
   "codemirror_mode": {
    "name": "ipython",
    "version": 3
   },
   "file_extension": ".py",
   "mimetype": "text/x-python",
   "name": "python",
   "nbconvert_exporter": "python",
   "pygments_lexer": "ipython3",
   "version": "3.8.8"
  }
 },
 "nbformat": 4,
 "nbformat_minor": 2
}
